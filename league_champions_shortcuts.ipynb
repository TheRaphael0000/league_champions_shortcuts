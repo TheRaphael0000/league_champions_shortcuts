{
 "cells": [
  {
   "cell_type": "code",
   "execution_count": null,
   "metadata": {},
   "outputs": [],
   "source": [
    "!python -m pip install pandas requests tabulate"
   ]
  },
  {
   "cell_type": "code",
   "execution_count": null,
   "metadata": {},
   "outputs": [],
   "source": [
    "import json\n",
    "import pandas as pd\n",
    "import requests\n",
    "import re"
   ]
  },
  {
   "cell_type": "code",
   "execution_count": null,
   "metadata": {},
   "outputs": [],
   "source": [
    "def curl_json(url):\n",
    "    return json.loads(requests.get(f\"https://ddragon.leagueoflegends.com{url}\").content)\n",
    "\n",
    "\n",
    "versions = curl_json(\"/api/versions.json\")\n",
    "last_version = versions[0]\n",
    "champion = curl_json(f\"/cdn/{last_version}/data/en_US/champion.json\")\n",
    "names = [v[\"name\"] for k, v in champion[\"data\"].items()]\n",
    "names.sort()\n",
    "print(f\"version: {last_version}\\n{len(names)} champions\")\n"
   ]
  },
  {
   "cell_type": "code",
   "execution_count": null,
   "metadata": {},
   "outputs": [],
   "source": [
    "def shortcuts_generator(s):\n",
    "    ls = len(s)\n",
    "    for i in range(1, 2 ** len(s)):\n",
    "        mask = bin(i)[2:].rjust(ls, '0')\n",
    "        shortcut = \"\".join([si for i, si in enumerate(s) if mask[i] == \"1\"])\n",
    "        yield shortcut\n",
    "\n",
    "\n",
    "names_shortcuts = [(name, set(shortcuts_generator(name.lower().replace(\" \", \"\")))) for name in names]\n",
    "\n",
    "shortest_shortcuts = []\n",
    "\n",
    "for name, shortcuts in names_shortcuts:\n",
    "    copy = list(names_shortcuts)\n",
    "    copy.remove((name, shortcuts))\n",
    "    all_others = set()\n",
    "    for n, s in copy:\n",
    "        all_others |= s\n",
    "    shortcut = list(shortcuts - all_others)\n",
    "    if not shortcut:\n",
    "        shortest_shortcuts.append((name, \"\"))\n",
    "        continue\n",
    "    min_len = min([len(s) for s in shortcut])\n",
    "    shortest_shortcut = [s for s in shortcut if len(s) == min_len]\n",
    "    shortest_shortcut.sort()\n",
    "    shortest_shortcuts.append((name, \", \".join(shortest_shortcut)))"
   ]
  },
  {
   "cell_type": "code",
   "execution_count": null,
   "metadata": {},
   "outputs": [],
   "source": [
    "df = pd.DataFrame(shortest_shortcuts, columns=[\"Champions\", \"Champion select shortcuts\"])\n",
    "table = df.to_markdown(index=False)\n",
    "table = re.sub(\"\\\\s{2,}\", \" \", table)\n",
    "table = re.sub(\"-{2,}\", \"-\", table)\n",
    "open(\"README.md\", \"w\").write(table)"
   ]
  }
 ],
 "metadata": {
  "kernelspec": {
   "display_name": "Python 3",
   "language": "python",
   "name": "python3"
  },
  "language_info": {
   "codemirror_mode": {
    "name": "ipython",
    "version": 3
   },
   "file_extension": ".py",
   "mimetype": "text/x-python",
   "name": "python",
   "nbconvert_exporter": "python",
   "pygments_lexer": "ipython3",
   "version": "3.12.3"
  },
  "orig_nbformat": 4
 },
 "nbformat": 4,
 "nbformat_minor": 2
}
