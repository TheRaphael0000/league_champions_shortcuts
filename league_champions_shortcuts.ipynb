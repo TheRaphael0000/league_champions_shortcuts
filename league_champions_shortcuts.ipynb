{
 "cells": [
  {
   "cell_type": "code",
   "execution_count": 1,
   "metadata": {},
   "outputs": [
    {
     "name": "stdout",
     "output_type": "stream",
     "text": [
      "Requirement already satisfied: pandas in c:\\users\\rapha\\appdata\\local\\programs\\python\\python311\\lib\\site-packages (1.5.1)\n",
      "Requirement already satisfied: requests in c:\\users\\rapha\\appdata\\local\\programs\\python\\python311\\lib\\site-packages (2.28.1)\n",
      "Requirement already satisfied: python-dateutil>=2.8.1 in c:\\users\\rapha\\appdata\\local\\programs\\python\\python311\\lib\\site-packages (from pandas) (2.8.2)\n",
      "Requirement already satisfied: pytz>=2020.1 in c:\\users\\rapha\\appdata\\local\\programs\\python\\python311\\lib\\site-packages (from pandas) (2022.5)\n",
      "Requirement already satisfied: numpy>=1.21.0 in c:\\users\\rapha\\appdata\\local\\programs\\python\\python311\\lib\\site-packages (from pandas) (1.23.4)\n",
      "Requirement already satisfied: charset-normalizer<3,>=2 in c:\\users\\rapha\\appdata\\local\\programs\\python\\python311\\lib\\site-packages (from requests) (2.1.1)\n",
      "Requirement already satisfied: idna<4,>=2.5 in c:\\users\\rapha\\appdata\\local\\programs\\python\\python311\\lib\\site-packages (from requests) (3.4)\n",
      "Requirement already satisfied: urllib3<1.27,>=1.21.1 in c:\\users\\rapha\\appdata\\local\\programs\\python\\python311\\lib\\site-packages (from requests) (1.26.12)\n",
      "Requirement already satisfied: certifi>=2017.4.17 in c:\\users\\rapha\\appdata\\local\\programs\\python\\python311\\lib\\site-packages (from requests) (2022.9.24)\n",
      "Requirement already satisfied: six>=1.5 in c:\\users\\rapha\\appdata\\local\\programs\\python\\python311\\lib\\site-packages (from python-dateutil>=2.8.1->pandas) (1.16.0)\n"
     ]
    },
    {
     "name": "stderr",
     "output_type": "stream",
     "text": [
      "\n",
      "[notice] A new release of pip available: 22.3 -> 23.0.1\n",
      "[notice] To update, run: python.exe -m pip install --upgrade pip\n"
     ]
    }
   ],
   "source": [
    "!python -m pip install pandas requests"
   ]
  },
  {
   "cell_type": "code",
   "execution_count": 2,
   "metadata": {},
   "outputs": [],
   "source": [
    "import json\n",
    "import pandas as pd\n",
    "import requests"
   ]
  },
  {
   "cell_type": "code",
   "execution_count": 3,
   "metadata": {},
   "outputs": [
    {
     "name": "stdout",
     "output_type": "stream",
     "text": [
      "version: 13.6.1\n",
      "163 champions\n"
     ]
    }
   ],
   "source": [
    "def curl_json(url):\n",
    "    return json.loads(requests.get(url).content)\n",
    "\n",
    "versions = curl_json(\"https://ddragon.leagueoflegends.com/api/versions.json\")\n",
    "last_version = versions[0]\n",
    "champion = curl_json(f\"http://ddragon.leagueoflegends.com/cdn/{last_version}/data/en_US/champion.json\")\n",
    "names = [v[\"name\"] for k,v in champion[\"data\"].items()]\n",
    "print(f\"version: {last_version}\\n{len(names)} champions\")"
   ]
  },
  {
   "cell_type": "code",
   "execution_count": 4,
   "metadata": {},
   "outputs": [],
   "source": [
    "def shortcuts_generator(s):\n",
    "    ls = len(s)\n",
    "    for i in range(1, 2 ** len(s)):\n",
    "        mask = bin(i)[2:].rjust(ls, '0')\n",
    "        shortcut = \"\".join([si for i, si in enumerate(s) if mask[i] == \"1\"])\n",
    "        yield shortcut\n",
    "\n",
    "\n",
    "names_shortcuts = [(name, set(shortcuts_generator(name.lower().replace(\" \", \"\")))) for name in names]\n",
    "\n",
    "shortest_shortcuts = []\n",
    "\n",
    "for name, shortcuts in names_shortcuts:\n",
    "    copy = list(names_shortcuts)\n",
    "    copy.remove((name, shortcuts))\n",
    "    all_others = set()\n",
    "    for n, s in copy:\n",
    "        all_others |= s\n",
    "    shortcut = list(shortcuts - all_others)\n",
    "    if not shortcut:\n",
    "        shortest_shortcuts.append((name, \"\"))\n",
    "        continue\n",
    "    min_len = min([len(s) for s in shortcut])\n",
    "    shortest_shortcut = {s for s in shortcut if len(s) == min_len}\n",
    "    shortest_shortcuts.append((name, \", \".join(shortest_shortcut)))"
   ]
  },
  {
   "cell_type": "code",
   "execution_count": 8,
   "metadata": {},
   "outputs": [
    {
     "data": {
      "text/plain": [
       "33989"
      ]
     },
     "execution_count": 8,
     "metadata": {},
     "output_type": "execute_result"
    }
   ],
   "source": [
    "df = pd.DataFrame(shortest_shortcuts, columns=[\"Champions\", \"Champion select shortcuts\"])\n",
    "open(\"README.md\", \"w\").write(df.to_markdown())"
   ]
  },
  {
   "cell_type": "code",
   "execution_count": null,
   "metadata": {},
   "outputs": [],
   "source": []
  }
 ],
 "metadata": {
  "kernelspec": {
   "display_name": "Python 3",
   "language": "python",
   "name": "python3"
  },
  "language_info": {
   "codemirror_mode": {
    "name": "ipython",
    "version": 3
   },
   "file_extension": ".py",
   "mimetype": "text/x-python",
   "name": "python",
   "nbconvert_exporter": "python",
   "pygments_lexer": "ipython3",
   "version": "3.11.0"
  },
  "orig_nbformat": 4
 },
 "nbformat": 4,
 "nbformat_minor": 2
}
